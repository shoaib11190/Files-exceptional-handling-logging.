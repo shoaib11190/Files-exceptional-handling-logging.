{
  "nbformat": 4,
  "nbformat_minor": 0,
  "metadata": {
    "colab": {
      "provenance": []
    },
    "kernelspec": {
      "name": "python3",
      "display_name": "Python 3"
    },
    "language_info": {
      "name": "python"
    }
  },
  "cells": [
    {
      "cell_type": "markdown",
      "source": [
        "# Files, exceptional handling, logging.."
      ],
      "metadata": {
        "id": "5nI-poDy346o"
      }
    },
    {
      "cell_type": "markdown",
      "source": [
        "**Ques 1. What is the difference between interpreted and compiled languages?**\n",
        "\n",
        "**Ans 1.** The key difference between interpreted and compiled languages lies in how they are executed by a computer:\n",
        "\n",
        "**Compiled Languages:** In compiled languages, the source code (written by the programmer) is translated into machine code (binary code) by a compiler before it can be executed.After compilation, the program is directly executed by the operating system, without needing the original source code or a compiler.Compiled programs tend to run faster because the translation into machine code is done beforehand.\n",
        "\n",
        "Examples: C, C++\n",
        "\n",
        "**Interpreted Languages:**  interpreted languages, the source code is executed line-by-line by an interpreter at runtime. The interpreter reads the code, translates it into machine code, and executes it in real time.\n",
        "The program is executed directly from the source code without generating a separate machine code file.\n",
        "\n",
        "**Eamples:** Python,PHP."
      ],
      "metadata": {
        "id": "b7RhV1Pf4BR2"
      }
    },
    {
      "cell_type": "markdown",
      "source": [
        "**Ques 2. What is exception handling in Python?**\n",
        "\n",
        "**Ans 2.**Exception handling in Python refers to the process of responding to runtime errors (also called exceptions) in a way that ensures the program can continue or fail gracefully without crashing unexpectedly. It allows you to anticipate, detect, and respond to errors during execution, ensuring that your program behaves predictably even when problems occur."
      ],
      "metadata": {
        "id": "qK-Gn4X836Wd"
      }
    },
    {
      "cell_type": "markdown",
      "source": [
        "**quest 3. What is the purpose of the finally block in exception handling?**\n",
        "\n",
        "**Ans 3.** The purpose of the finally block in Python's exception handling is to define code that will always be executed, regardless of whether an exception was raised or not during the execution of the try and except blocks. This makes it ideal for clean-up actions or operations that must happen no matter the outcome of the try-except process."
      ],
      "metadata": {
        "id": "L8n4qilO9zVe"
      }
    },
    {
      "cell_type": "markdown",
      "source": [
        "**Ques 4.What is logging in Python?**\n",
        "\n",
        "**Ans 4.** Python logging is a module that allows you to track events that occur while your program is running. You can use logging to record information about errors, warnings, and other events that occur during program execution. And logging is a useful tool for debugging, troubleshooting, and monitoring your program."
      ],
      "metadata": {
        "id": "XdotZD8i_kxL"
      }
    },
    {
      "cell_type": "markdown",
      "source": [
        "**Ques 5. What is the significance of the __del__ method in Python**\n",
        "\n",
        "**Ans 5.** The del method in Python is a destructor that's called when an object is about to be destroyed. It's used to: Clean up resources, Release locks, Close files, Close network connections, and Perform other \"finalization\" actions."
      ],
      "metadata": {
        "id": "bnjBUK1pAptQ"
      }
    },
    {
      "cell_type": "markdown",
      "source": [
        "**Ques 6.What is the difference between import and from ... import in Python?**\n",
        "\n",
        "**Ans 6.** In Python, both import and from ... import are used to bring external modules or specific elements from a module into the current namespace, but they do so in different ways and have different behaviors.\n",
        "\n",
        "**import Statement:** The import statement is used to import an entire module or package into the current namespace. After importing a module, you need to reference its functions, classes, or variables with the module's name as a prefix.\n",
        "\n",
        "**from ... import Statement:**  The from ... import statement allows you to import specific functions, classes, or variables directly from a module into the current namespace. This means you can access them without needing to prefix them with the module name."
      ],
      "metadata": {
        "id": "vKdZKd2TBWER"
      }
    },
    {
      "cell_type": "markdown",
      "source": [
        "**Ques 7 . How can you handle multiple exceptions in Python?**\n",
        "\n",
        "**Ans 7.** In Python, you can handle multiple exceptions in several ways, including:\n",
        "\n",
        "**Using a single except clause:** You can use a single except clause to catch multiple exceptions by specifying them as a tuple in parentheses. This is useful when different exceptions require similar handling logic\n",
        "\n",
        "**Using multiple except blocks:** You can use multiple except blocks to catch multiple specific exceptions, with each block handling a different type of exception.\n",
        "\n",
        "**Using the finally statement:** You can use the finally statement to ensure cleanup, such as closing a file, even if an exception is raised. The finally statement is essential for resource management."
      ],
      "metadata": {
        "id": "g2U8xruQCtbj"
      }
    },
    {
      "cell_type": "markdown",
      "source": [
        "**Ques 8. What is the purpose of the with statement when handling files in Python**\n",
        "\n",
        "**Ans 8.** In Python, the with statement replaces a try-catch block with a concise shorthand. More importantly, it ensures closing resources right after processing them. A common example of using the with statement is reading or writing to a file."
      ],
      "metadata": {
        "id": "SqHvn9oYCs4t"
      }
    },
    {
      "cell_type": "markdown",
      "source": [
        "**Ques 9. What is the difference between multithreading and multiprocessing?**\n",
        "\n",
        "Ans 9.*italicized text* Multithreading and multiprocessing are both ways to increase computing power, but they differ in how they do it.\n",
        "\n",
        "**Multithreading:-**\n",
        "Uses a single processor to run multiple threads concurrently. Each thread runs a process, and all threads share the resources of the single process. Multithreading is good for tasks that need to share data quickly.\n",
        "\n",
        "**Multiprocessing:-**\n",
        "Uses multiple processors to run multiple processes in parallel. Each process has its own dedicated resources and address space. Multiprocessing is better suited for CPU-bound tasks."
      ],
      "metadata": {
        "id": "oTXj-f5eF3yN"
      }
    },
    {
      "cell_type": "markdown",
      "source": [
        "Ques 10. What are the advantages of using logging in a program?\n",
        "\n",
        "**Ans 10.** Logging in a program can have many advantages.\n",
        "\n",
        "**Debugging:** Logs can help identify and fix bugs and unexpected issues. In production environments, logs are often the only source of information for debugging intermittent errors.\n",
        "\n",
        "**Tracking errors: **  Logging can help you record information about errors, warnings, and other events that occur during program execution.\n",
        "\n",
        "**Monitoring performance:** Logging can help you identify potential bottlenecks and monitor your code's performance."
      ],
      "metadata": {
        "id": "FExFuL9QCn0e"
      }
    },
    {
      "cell_type": "markdown",
      "source": [
        "**Ques 11. What is memory management in Python?**\n",
        "\n",
        "**Ans 11.** Memory management in Python is the process of automatically allocating and managing memory so that programs can run efficiently."
      ],
      "metadata": {
        "id": "lEEj6pb8G9nX"
      }
    },
    {
      "cell_type": "markdown",
      "source": [
        "**Ques 12. What are the basic steps involved in exception handling in Python?**\n",
        "\n",
        "**Ans 12.** The basic steps for exception handling in Python are to use the try and except blocks to test code for errors and handle them:\n",
        "\n",
        "**Try block:** Contains the code that may have errors.\n",
        "**Except block:** Handles the error that occurs in the try block.\n",
        "\n",
        "**Finally Block:** Use the finally clause to execute cleanup code after a try block, regardless of whether an exception occurred"
      ],
      "metadata": {
        "id": "SmGqGnSQLlY3"
      }
    },
    {
      "cell_type": "markdown",
      "source": [
        "**Ques 13.Why is memory management important in Python?**\n",
        "\n",
        "**Ans 13.**\n",
        "Memory management in Python is important because it helps to:\n",
        "\n",
        "**Write efficient code:** Memory management helps you write code that uses memory efficiently, which can lead to faster processing and less need for resources.\n",
        "\n",
        "**Performance and Efficiency:** nefficient memory usage can slow down programs. For example, allocating and deallocating memory frequently can create overhead and impact performance.\n",
        "\n",
        "**Avoid crashes and errors:** Memory management helps mitigate the risk of crashes and errors in your code.\n",
        "\n",
        "**Garbage collection:**When an object's reference count drops to zero, the garbage collector automatically frees the memory from that object."
      ],
      "metadata": {
        "id": "ZFlFUiG6Nn0s"
      }
    },
    {
      "cell_type": "markdown",
      "source": [
        "**Ques 14. What is the role of try and except in exception handling?**\n",
        "\n",
        "**Ans 14.** The try block lets you test a block of code for errors. The except block lets you handle the error. The else block lets you execute code when there is no error. The finally block lets you execute code, regardless of the result of the try- and except blocks."
      ],
      "metadata": {
        "id": "goCvB6VmPyLw"
      }
    },
    {
      "cell_type": "markdown",
      "source": [
        "Ques 15. How does Python's garbage collection system work?\n",
        "\n",
        "**Ans 15.** Python's garbage collection system automatically manages memory by detecting and removing objects that are no longer in use.'\n",
        "The garbage collector in Python locates and releases memory occupied by objects that can no longer be accessed or referenced by the program's code."
      ],
      "metadata": {
        "id": "4RhDDfXEQ86q"
      }
    },
    {
      "cell_type": "markdown",
      "source": [
        "**Ques 16. What is the purpose of the else block in exception handling?:**\n",
        "\n",
        "**Ans 16.** The 'else' block is executed when there are no exceptions raised within the try block. The 'else' block is useful when you want to perform specific actions when no exceptions occur.\n",
        "The else block runs only if the code inside the try block does not raise any exceptions. If an exception is raised in the try block, the else block is skipped."
      ],
      "metadata": {
        "id": "D_PbdbRtSr2j"
      }
    },
    {
      "cell_type": "markdown",
      "source": [
        "Ques 17. What are the common logging levels in Python?\n",
        "\n",
        "**Ans 17.** Python's logging module has six stan\n",
        "dard logging levels that indicate the severity of an event:\n",
        "\n",
        "**Notset:** The default setting for a log.\n",
        "\n",
        "**Debug:** The least threatening level, providing detailed information for diagnosing issues.\n",
        "\n",
        "**Info: ** Confirmation that the application is functioning as expected.\n",
        "\n",
        "**Warning:** A sign that something unexpected occurred or a potential problem might arise soon.\n",
        "\n",
        "**Error:** Indicates a significant issue that has prevented certain functions from executing.\n"
      ],
      "metadata": {
        "id": "RYPZjylSTHa_"
      }
    },
    {
      "cell_type": "markdown",
      "source": [
        "**Ques 19.What is the difference between os.fork() and multiprocessing in Python**\n",
        "\n",
        "**Ans 19.** In Python, both os.fork() and multiprocessing are used for creating and managing processes, but they work in fundamentally different ways. Here's a breakdown of the key differences between os.fork() and multiprocessing in Python:\n",
        "\n",
        "**os.fork():** os.fork() is a low-level system call that creates a child process by duplicating the calling (parent) process. The new child process is a copy of the parent process, but it gets a separate memory space.\n",
        "\n",
        "**multiprocessing :** The multiprocessing module is a higher-level, cross-platform (works on both Unix and Windows) way of creating and managing processes. It provides an abstraction over low-level process management, offering simpler and more flexible APIs for creating and communicating between processes."
      ],
      "metadata": {
        "id": "nzXMlRstUP2d"
      }
    },
    {
      "cell_type": "markdown",
      "source": [
        "ques 20. What is the difference between file.read() and file.readline() in Python?\n",
        "\n",
        "**Ans 20.** In Python, the `read()` method is used to read a specified number of characters from a file or input stream, while the `readline()` method is used to read a single line from a file or input stream."
      ],
      "metadata": {
        "id": "9pSciaONWTtr"
      }
    },
    {
      "cell_type": "markdown",
      "source": [
        "**Ques 21. What is the logging module in Python used for?**\n",
        "\n",
        "**Ans 21 .**Python logging is a module that allows you to track events that occur while your program is running. You can use logging to record information about errors, warnings, and other events that occur during program execution."
      ],
      "metadata": {
        "id": "_BhEvB5cW0Bm"
      }
    },
    {
      "cell_type": "markdown",
      "source": [
        "**Ques 22. What is the os module in Python used for in file handling?**\n",
        "\n",
        "**Ans 22.**Python has a built-in os module with methods for interacting with the operating system, like creating files and directories, management of files and directories, input, output, environment variables, process management, etc."
      ],
      "metadata": {
        "id": "Gt-japRFXcS_"
      }
    },
    {
      "cell_type": "markdown",
      "source": [
        "**Ques 23.What are the challenges associated with memory management in Python**\n",
        "\n",
        "**Ans 23.**\n",
        "Memory management in Python comes with several challenges, given its high-level nature and the complexities of managing memory allocation and deallocation in a dynamic language.\n",
        "\n",
        "**Slower program runtimes:** Python's memory management may not free up memory for the operating system as quickly as other programming languages, which can slow down program runtimes.\n",
        "\n",
        "**Memory leaks:** Memory leaks can occur if references to objects aren't released properly, or if circular references aren't caught by the garbage collector.\n",
        "\n",
        "**Manual customizability:** Python's memory management doesn't offer the same level of manual customizability as other programming languages.\n",
        "\n",
        "**Garbage collection:** Automatically reclaims unused memory to ensure efficient use of memory resources. Python's garbage collector uses reference counting to track object references and cycles to detect and clean up circular references."
      ],
      "metadata": {
        "id": "tPDm_n9BbNDI"
      }
    },
    {
      "cell_type": "markdown",
      "source": [
        "Ques 24 .How do you raise an exception manually in Python?\n",
        "\n",
        "Ans 24.\n",
        "In Python, you can manually raise an exception using the raise keyword. This allows you to trigger an exception intentionally, either to signal an error or to enforce certain conditions in your program."
      ],
      "metadata": {
        "id": "2GZyaHI5dbIV"
      }
    },
    {
      "cell_type": "markdown",
      "source": [
        "**Ques 25.Why is it important to use multithreading in certain applications?**\n",
        "\n",
        "**Ans 25.** Multithreading is important in certain applications for several reasons, primarily revolving around performance improvement, resource optimization, and handling concurrent tasks efficiently.\n",
        "\n",
        "**Improved Performance:** Multithreading improves the performance of applications by running the task simultaneously. Better Responsiveness: Multithreading improves the responsiveness of your backend applications by running threads after a task is blocked."
      ],
      "metadata": {
        "id": "rnQuxPG4ejhS"
      }
    },
    {
      "cell_type": "markdown",
      "source": [
        "# **# Practical Questions...**"
      ],
      "metadata": {
        "id": "OuSvxiwDfYs1"
      }
    },
    {
      "cell_type": "code",
      "source": [
        "# Question 1. How can you open a file for writing in Python and write a string to it?\n",
        "\n",
        "'''\n",
        "\n",
        "# Open the file in write mode ('w')\n",
        "with open('example.txt', 'w') as file:\n",
        "    # Write a string to the file\n",
        "    file.write(\"Hello, this is a string written to the file!\")\n",
        "\n",
        "\n",
        "'''"
      ],
      "metadata": {
        "colab": {
          "base_uri": "https://localhost:8080/",
          "height": 52
        },
        "id": "eK8IYjrrnDFD",
        "outputId": "d59b449d-0654-4c1d-9fe1-791b324f3c1b"
      },
      "execution_count": null,
      "outputs": [
        {
          "output_type": "execute_result",
          "data": {
            "text/plain": [
              "'\\n\\n# Open the file in write mode (\\'w\\')\\nwith open(\\'example.txt\\', \\'w\\') as file:\\n    # Write a string to the file\\n    file.write(\"Hello, this is a string written to the file!\")\\n    \\n\\n'"
            ],
            "application/vnd.google.colaboratory.intrinsic+json": {
              "type": "string"
            }
          },
          "metadata": {},
          "execution_count": 1
        }
      ]
    },
    {
      "cell_type": "code",
      "source": [
        "#  Qestion 2. Write a Python program to read the contents of a file and print each line?\n",
        "\n",
        "'''\n",
        "# Open the file in read mode ('r')\n",
        "with open('example.txt', 'r') as file:\n",
        "    # Read and print each line in the file\n",
        "    for line in file:\n",
        "        print(line, end='')  # end='' prevents adding an extra newline\n",
        "\n",
        "'''"
      ],
      "metadata": {
        "id": "F0SnZIoifqos"
      },
      "execution_count": null,
      "outputs": []
    },
    {
      "cell_type": "code",
      "source": [
        "# Question 3. How would you handle a case where the file doesn't exist while trying to open it for reading?\n",
        "\n",
        "'''\n",
        "\n",
        "try:\n",
        "    # Try to open the file in read mode\n",
        "\n",
        "    with open('example.txt', 'r') as file:\n",
        "\n",
        "        for line in file:\n",
        "            print(line, end='')  # Prevent extra newline from print()\n",
        "except FileNotFoundError:\n",
        "    print(\"Error: The file does not exist.\")\n",
        "\n",
        "'''"
      ],
      "metadata": {
        "id": "Vqzt1jDB9BMQ"
      },
      "execution_count": null,
      "outputs": []
    },
    {
      "cell_type": "code",
      "source": [
        "# Queston 4.Write a Python script that reads from one file and writes its content to another file?\n",
        "\n",
        "'''\n",
        "# Python script to copy content from one file to another\n",
        "\n",
        "# Open the source file in read mode\n",
        "with open('source.txt', 'r') as source_file:\n",
        "    # Read the content of the source file\n",
        "    content = source_file.read()\n",
        "\n",
        "with open('destination.txt', 'w') as destination_file:\n",
        "\n",
        "    destination_file.write(content)\n",
        "\n",
        "print(\"Content copied from 'source.txt' to 'destination.txt'.\")\n",
        "\n",
        "'''\n"
      ],
      "metadata": {
        "id": "5TIInvfvqFhg"
      },
      "execution_count": null,
      "outputs": []
    },
    {
      "cell_type": "code",
      "source": [
        "# Question 5.How would you catch and handle division by zero error in Python?\n",
        "\n",
        "'''\n",
        "# Function to perform division\n",
        "def divide(a, b):\n",
        "    try:\n",
        "        # Try to divide a by b\n",
        "        result = a / b\n",
        "    except ZeroDivisionError:\n",
        "        # Handle the case where b is 0\n",
        "        print(\"Error: Cannot divide by zero!\")\n",
        "        return None  # Optionally return None or any appropriate value\n",
        "    else:\n",
        "        # If no exception occurs, return the result\n",
        "        return result\n",
        "\n",
        "# Example usage\n",
        "numerator = 10\n",
        "denominator = 0\n",
        "\n",
        "# Call the divide function and handle the division by zero error\n",
        "result = divide(numerator, denominator)\n",
        "\n",
        "if result is not None:\n",
        "    print(f\"The result is: {result}\")\n",
        "else:\n",
        "    print(\"Division failed due to an error.\")\n",
        "\n",
        "'''"
      ],
      "metadata": {
        "id": "k9b2JdT5q6Fu"
      },
      "execution_count": null,
      "outputs": []
    },
    {
      "cell_type": "code",
      "source": [
        "# Question 6.Write a Python program that logs an error message to a log file when a division by zero exception occurs?\n",
        "\n",
        "'''\n",
        "import logging\n",
        "\n",
        "# Configure the logging settings\n",
        "logging.basicConfig(\n",
        "    filename='error_log.txt',  # Log file name\n",
        "    level=logging.ERROR,       # Set log level to ERROR (to log only error messages)\n",
        "    format='%(asctime)s - %(levelname)s - %(message)s'  # Log format with timestamp\n",
        ")\n",
        "\n",
        "# Function to perform division\n",
        "def divide(a, b):\n",
        "    try:\n",
        "        # Try to divide a by b\n",
        "        result = a / b\n",
        "    except ZeroDivisionError as e:\n",
        "        # Handle the case where b is 0\n",
        "        logging.error(f\"Division by zero error: {e} (a = {a}, b = {b})\")\n",
        "        return None  # Optionally return None or any appropriate value\n",
        "    else:\n",
        "        # If no exception occurs, return the result\n",
        "        return result\n",
        "\n",
        "# Example usage\n",
        "numerator = 10\n",
        "denominator = 0\n",
        "\n",
        "# Call the divide function and handle the division by zero error\n",
        "result = divide(numerator, denominator)\n",
        "\n",
        "if result is not None:\n",
        "    print(f\"The result is: {result}\")\n",
        "else:\n",
        "    print(\"Division failed due to an error. Check the log file for details.\")\n",
        "\n",
        "'''\n"
      ],
      "metadata": {
        "id": "-Nz7KWcDq6CR"
      },
      "execution_count": null,
      "outputs": []
    },
    {
      "cell_type": "code",
      "source": [
        "# Question 7.How do you log information at different levels (INFO, ERROR, WARNING) in Python using the logging module?\n",
        "\n",
        "'''\n",
        "import logging\n",
        "\n",
        "# Configure the logging settings\n",
        "logging.basicConfig(\n",
        "    filename='app.log',\n",
        "    level=logging.DEBUG,\n",
        "    format='%(asctime)s - %(levelname)s - %(message)s'\n",
        ")\n",
        "\n",
        "# Log different levels of messages\n",
        "logging.debug(\"This is a debug message.\")  # Low-level details, typically for debugging\n",
        "logging.info(\"This is an info message.\")   # General information about the program's execution\n",
        "logging.warning(\"This is a warning message.\")  # Potential issue or something unusual\n",
        "logging.error(\"This is an error message.\")  # An error that affects the program\n",
        "logging.critical(\"This is a critical message.\")  # A very serious error, likely to stop the program\n",
        "\n",
        "# Simulate some logic with different levels of logging\n",
        "def divide(a, b):\n",
        "    if b == 0:\n",
        "        logging.error(f\"Attempted to divide by zero: a = {a}, b = {b}\")\n",
        "        return None\n",
        "    else:\n",
        "        result = a / b\n",
        "        logging.info(f\"Division result: {result} (a = {a}, b = {b})\")\n",
        "        return result\n",
        "\n",
        "# Example usage\n",
        "numerator = 10\n",
        "denominator = 0\n",
        "\n",
        "# Calling the divide function will trigger logging at different levels\n",
        "divide(numerator, denominator)\n",
        "\n",
        "'''\n"
      ],
      "metadata": {
        "id": "3pLiyS01q6AZ"
      },
      "execution_count": null,
      "outputs": []
    },
    {
      "cell_type": "code",
      "source": [
        "# Queston 8. Write a program to handle a file opening error using exception handling?\n",
        "\n",
        "'''\n",
        "# Function to open and read a file\n",
        "def open_and_read_file(filename):\n",
        "    try:\n",
        "        # Try to open the file in read mode\n",
        "        with open(filename, 'r') as file:\n",
        "            content = file.read()\n",
        "            print(\"File content:\")\n",
        "            print(content)\n",
        "    except FileNotFoundError:\n",
        "        # Handle the case where the file is not found\n",
        "        print(f\"Error: The file '{filename}' was not found.\")\n",
        "    except IOError:\n",
        "        # Handle other IO errors (e.g., permission issues)\n",
        "        print(f\"Error: An unexpected IO error occurred while trying to open '{filename}'.\")\n",
        "    except Exception as e:\n",
        "        # Catch any other unexpected exceptions\n",
        "        print(f\"An unexpected error occurred: {e}\")\n",
        "\n",
        "# Example usage\n",
        "filename = 'non_existent_file.txt'  # Replace with an actual file name to test\n",
        "open_and_read_file(filename)\n",
        "\n",
        "'''\n"
      ],
      "metadata": {
        "id": "3SC8ci7Oq5-N"
      },
      "execution_count": null,
      "outputs": []
    },
    {
      "cell_type": "code",
      "source": [
        "# Question 9. How can you read a file line by line and store its content in a list in Python?\n",
        "\n",
        "'''\n",
        "# Open the file in read mode\n",
        "filename = 'example.txt'  # Replace with your file name\n",
        "\n",
        "# Initialize an empty list to store the lines\n",
        "lines = []\n",
        "\n",
        "try:\n",
        "    # Open the file and read it line by line\n",
        "    with open(filename, 'r') as file:\n",
        "        for line in file:\n",
        "            # Strip the newline character and append the line to the list\n",
        "            lines.append(line.strip())\n",
        "\n",
        "    # Display the list of lines\n",
        "    print(\"File content stored in the list:\")\n",
        "    for line in lines:\n",
        "        print(line)\n",
        "\n",
        "except FileNotFoundError:\n",
        "    print(f\"Error: The file '{filename}' was not found.\")\n",
        "except IOError:\n",
        "    print(f\"Error: An unexpected IO error occurred while trying to open '{filename}'.\")\n",
        "\n",
        "'''"
      ],
      "metadata": {
        "id": "h7AlGGcdq574"
      },
      "execution_count": null,
      "outputs": []
    },
    {
      "cell_type": "code",
      "source": [
        "# Question 10.How can you append data to an existing file in Python?\n",
        "\n",
        "'''\n",
        "\n",
        "# Data to append to the file\n",
        "data_to_append = \"This is a new line that will be added to the file.\\n\"\n",
        "\n",
        "# Open the file in append mode ('a')\n",
        "filename = 'example.txt'\n",
        "\n",
        "try:\n",
        "    with open(filename, 'a') as file:\n",
        "\n",
        "        file.write(data_to_append)\n",
        "    print(\"Data successfully appended to the file.\")\n",
        "except FileNotFoundError:\n",
        "    print(f\"Error: The file '{filename}' was not found.\")\n",
        "except IOError:\n",
        "    print(f\"Error: An unexpected IO error occurred while trying to open '{filename}'.\")\n",
        "\n",
        "'''"
      ],
      "metadata": {
        "id": "Neez7t14q55W"
      },
      "execution_count": null,
      "outputs": []
    },
    {
      "cell_type": "code",
      "source": [
        "# Question 11.Write a Python program that uses a try-except block to handle an error when attempting to access a dictionary key that doesn't exis?\n",
        "\n",
        "'''\n",
        "# Sample dictionary\n",
        "my_dict = {'name': 'Alice', 'age': 25, 'city': 'New York'}\n",
        "\n",
        "# Key to access\n",
        "key_to_access = 'address'  # This key doesn't exist in the dictionary\n",
        "\n",
        "try:\n",
        "    # Try to access the dictionary key\n",
        "    value = my_dict[key_to_access]\n",
        "    print(f\"The value for the key '{key_to_access}' is: {value}\")\n",
        "except KeyError:\n",
        "    # Handle the case where the key doesn't exist\n",
        "    print(f\"Error: The key '{key_to_access}' does not exist in the dictionary.\")\n",
        "\n",
        "'''\n",
        "\n"
      ],
      "metadata": {
        "id": "3o9rXyRWq52v"
      },
      "execution_count": null,
      "outputs": []
    },
    {
      "cell_type": "code",
      "source": [
        "# Question 12.Write a program that demonstrates using multiple except blocks to handle different types of exceptions?\n",
        "\n",
        "'''\n",
        "\n",
        "# Function to demonstrate multiple exceptions handling\n",
        "def divide_numbers(a, b):\n",
        "    try:\n",
        "        # Attempt division\n",
        "        result = a / b\n",
        "        print(f\"The result of {a} divided by {b} is: {result}\")\n",
        "\n",
        "        # Attempt to access an element in a list\n",
        "        my_list = [1, 2, 3]\n",
        "        print(f\"Accessing the element at index 5: {my_list[5]}\")  # This will raise IndexError\n",
        "\n",
        "    except ZeroDivisionError:\n",
        "        # Handle division by zero error\n",
        "        print(\"Error: Cannot divide by zero!\")\n",
        "\n",
        "    except IndexError:\n",
        "        # Handle index out of range error\n",
        "        print(\"Error: List index out of range!\")\n",
        "\n",
        "    except TypeError:\n",
        "        # Handle type-related errors\n",
        "        print(\"Error: Invalid data type used!\")\n",
        "\n",
        "    except Exception as e:\n",
        "        # Handle any other unexpected exceptions\n",
        "        print(f\"An unexpected error occurred: {e}\")\n",
        "\n",
        "# Example usage\n",
        "divide_numbers(10, 0)\n",
        "print()\n",
        "divide_numbers(10, 2)\n",
        "print()\n",
        "divide_numbers(\"10\", \"2\")\n",
        "\n",
        "'''\n"
      ],
      "metadata": {
        "id": "-1Kx5gEBq5vV"
      },
      "execution_count": null,
      "outputs": []
    },
    {
      "cell_type": "code",
      "source": [
        "# Question 13.How would you check if a file exists before attempting to read it in Python?\n",
        "\n",
        "'''\n",
        "import os\n",
        "\n",
        "filename = 'example.txt'  # Replace with your file name\n",
        "\n",
        "# Check if the file exists\n",
        "if os.path.exists(filename):\n",
        "    with open(filename, 'r') as file:\n",
        "        content = file.read()\n",
        "        print(content)\n",
        "else:\n",
        "    print(f\"Error: The file '{filename}' does not exist.\")\n",
        "\n",
        "'''\n"
      ],
      "metadata": {
        "id": "AwSG83u_q5is"
      },
      "execution_count": null,
      "outputs": []
    },
    {
      "cell_type": "code",
      "source": [
        "# Question 14.Write a program that uses the logging module to log both informational and error messages?\n",
        "\n",
        "'''\n",
        "import logging\n",
        "\n",
        "# Configure the logging system\n",
        "logging.basicConfig(\n",
        "    level=logging.DEBUG,  # Set the logging level to capture INFO, ERROR, etc.\n",
        "    format='%(asctime)s - %(levelname)s - %(message)s',  # Log format with timestamp\n",
        "    handlers=[\n",
        "        logging.StreamHandler()  # Output log messages to the console\n",
        "    ]\n",
        ")\n",
        "\n",
        "# Log an informational message\n",
        "logging.info(\"This is an informational message.\")\n",
        "\n",
        "try:\n",
        "    # Simulate an error (division by zero)\n",
        "    result = 10 / 0\n",
        "except ZeroDivisionError as e:\n",
        "    logging.error(f\"An error occurred: {e}\")\n",
        "\n",
        "'''"
      ],
      "metadata": {
        "id": "i8YtczDEx3_a"
      },
      "execution_count": null,
      "outputs": []
    },
    {
      "cell_type": "code",
      "source": [
        "# Question 15.Write a Python program that prints the content of a file and handles the case when the file is empty?\n",
        "\n",
        "'''\n",
        "# Define the file name\n",
        "filename = 'example.txt'  # Replace with your file name\n",
        "\n",
        "try:\n",
        "    # Open the file in read mode\n",
        "    with open(filename, 'r') as file:\n",
        "        content = file.read()\n",
        "\n",
        "        # Check if the file is empty\n",
        "        if not content:\n",
        "            print(\"The file is empty.\")\n",
        "        else:\n",
        "            print(\"File content:\")\n",
        "            print(content)\n",
        "\n",
        "except FileNotFoundError:\n",
        "    # Handle the case where the file does not exist\n",
        "    print(f\"Error: The file '{filename}' does not exist.\")\n",
        "except Exception as e:\n",
        "    # Handle other potential errors (e.g., permission errors)\n",
        "    print(f\"An unexpected error occurred: {e}\")\n",
        "\n",
        "\n",
        "'''\n"
      ],
      "metadata": {
        "id": "DWqjJINax374"
      },
      "execution_count": null,
      "outputs": []
    },
    {
      "cell_type": "code",
      "source": [
        "# Question 16.Demonstrate how to use memory profiling to check the memory usage of a small program?\n",
        "\n",
        "'''\n",
        "\n",
        "# Import memory_profiler\n",
        "from memory_profiler import profile\n",
        "\n",
        "# A sample function to demonstrate memory usage\n",
        "@profile\n",
        "def sample_function():\n",
        "    # Allocate a list of numbers\n",
        "    my_list = [x * 2 for x in range(10000)]\n",
        "\n",
        "    # Create a string to add memory usage\n",
        "    my_string = \"Hello, this is a sample program to check memory usage.\"\n",
        "\n",
        "    return my_list, my_string\n",
        "\n",
        "if __name__ == \"__main__\":\n",
        "    sample_function()\n",
        "\n",
        "'''\n"
      ],
      "metadata": {
        "id": "Qgmsbblxx35x"
      },
      "execution_count": null,
      "outputs": []
    },
    {
      "cell_type": "code",
      "source": [
        "# Question 17.Write a Python program to create and write a list of numbers to a file, one number per line?\n",
        "\n",
        "'''\n",
        "# Create a list of numbers\n",
        "numbers = [1, 2, 3, 4, 5, 6, 7, 8, 9, 10]\n",
        "\n",
        "# Open a file in write mode\n",
        "with open(\"numbers.txt\", \"w\") as file:\n",
        "    # Write each number to the file, one per line\n",
        "    for number in numbers:\n",
        "        file.write(f\"{number}\\n\")\n",
        "\n",
        "print(\"Numbers have been written to 'numbers.txt'.\")\n",
        "\n",
        "'''\n"
      ],
      "metadata": {
        "id": "JICv7XAHx33I"
      },
      "execution_count": null,
      "outputs": []
    },
    {
      "cell_type": "code",
      "source": [
        "# Question 18. How would you implement a basic logging setup that logs to a file with rotation after 1MB?\n",
        "\n",
        "'''\n",
        "\n",
        "import logging\n",
        "from logging.handlers import RotatingFileHandler\n",
        "\n",
        "# Set up a logger\n",
        "logger = logging.getLogger(\"MyLogger\")\n",
        "logger.setLevel(logging.DEBUG)  # Set the log level to DEBUG\n",
        "\n",
        "# Create a rotating file handler that logs to a file and rotates after the file reaches 1MB\n",
        "handler = RotatingFileHandler(\n",
        "    'app.log',       # The log file name\n",
        "    maxBytes=1 * 1024 * 1024,  # Maximum file size before rotating (1MB)\n",
        "    backupCount=3    # Keep 3 backup copies of the log\n",
        ")\n",
        "\n",
        "# Create a formatter to format the log messages\n",
        "formatter = logging.Formatter('%(asctime)s - %(levelname)s - %(message)s')\n",
        "handler.setFormatter(formatter)\n",
        "\n",
        "# Add the handler to the logger\n",
        "logger.addHandler(handler)\n",
        "\n",
        "# Log some messages\n",
        "logger.debug(\"This is a debug message.\")\n",
        "logger.info(\"This is an info message.\")\n",
        "logger.warning(\"This is a warning message.\")\n",
        "logger.error(\"This is an error message.\")\n",
        "logger.critical(\"This is a critical message.\")\n",
        "\n",
        "'''\n"
      ],
      "metadata": {
        "id": "7j0EdwoJx31Z"
      },
      "execution_count": null,
      "outputs": []
    },
    {
      "cell_type": "code",
      "source": [
        "# Question 19. Write a program that handles both IndexError and KeyError using a try-except block?\n",
        "\n",
        "'''\n",
        "\n",
        "\n",
        "my_list = [1, 2, 3]\n",
        "my_dict = {\"a\": 1, \"b\": 2}\n",
        "\n",
        "try:\n",
        "    # Trying to access an index that does not exist in the list\n",
        "    print(my_list[5])\n",
        "except IndexError as e:\n",
        "    print(f\"IndexError: {e}\")\n",
        "\n",
        "try:\n",
        "    # Trying to access a key that does not exist in the dictionary\n",
        "    print(my_dict[\"c\"])\n",
        "except KeyError as e:\n",
        "    print(f\"KeyError: {e}\")\n",
        "\n",
        "'''"
      ],
      "metadata": {
        "id": "80wpDbwKx3zV"
      },
      "execution_count": null,
      "outputs": []
    },
    {
      "cell_type": "code",
      "source": [
        "# Question 20.How would you open a file and read its contents using a context manager in Python?\n",
        "\n",
        "'''\n",
        "# Open the file using the 'with' context manager\n",
        "with open('example.txt', 'r') as file:\n",
        "    # Read the contents of the file\n",
        "    content = file.read()\n",
        "\n",
        "# Print the file content\n",
        "print(content)\n",
        "\n",
        "'''\n"
      ],
      "metadata": {
        "id": "OLWVDtUtx3xX"
      },
      "execution_count": null,
      "outputs": []
    },
    {
      "cell_type": "code",
      "source": [
        "# Question 21.Write a Python program that reads a file and prints the number of occurrences of a specific word?\n",
        "\n",
        "'''\n",
        "# Define the word you want to search for\n",
        "word_to_search = \"example\"\n",
        "\n",
        "# Open the file using the 'with' statement (context manager)\n",
        "with open('example.txt', 'r') as file:\n",
        "    # Initialize a variable to count the occurrences\n",
        "    word_count = 0\n",
        "\n",
        "    # Read through each line in the file\n",
        "    for line in file:\n",
        "        # Split the line into words and count the occurrences of the word\n",
        "        word_count += line.lower().split().count(word_to_search.lower())\n",
        "\n",
        "# Print the result\n",
        "print(f\"The word '{word_to_search}' occurred {word_count} times.\")\n",
        "\n",
        "'''"
      ],
      "metadata": {
        "id": "ebzQq_2Ux3vZ"
      },
      "execution_count": null,
      "outputs": []
    },
    {
      "cell_type": "code",
      "source": [
        "# Question 22.How can you check if a file is empty before attempting to read its contents?\n",
        "\n",
        "'''\n",
        "import os\n",
        "\n",
        "file_path = \"your_file.txt\"\n",
        "\n",
        "# Check if the file is empty by checking its size\n",
        "if os.stat(file_path).st_size == 0:\n",
        "    print(\"The file is empty.\")\n",
        "else:\n",
        "    with open(file_path, \"r\") as file:\n",
        "        content = file.read()\n",
        "        print(\"File content:\", content)\n",
        "\n",
        "'''\n"
      ],
      "metadata": {
        "id": "oCqUjdwqx3td"
      },
      "execution_count": null,
      "outputs": []
    },
    {
      "cell_type": "code",
      "source": [
        "# Question 23. Write a Python program that writes to a log file when an error occurs during file handling?\n",
        "\n",
        "'''\n",
        "import logging\n",
        "\n",
        "# Configure logging settings\n",
        "logging.basicConfig(\n",
        "    filename='file_operations.log',  # Log file to store errors\n",
        "    level=logging.ERROR,  # Only log errors (and more severe messages)\n",
        "    format='%(asctime)s - %(levelname)s - %(message)s'\n",
        ")\n",
        "\n",
        "# Try reading from a file\n",
        "file_path_to_read = 'nonexistent_file.txt'\n",
        "\n",
        "try:\n",
        "    with open(file_path_to_read, 'r') as file:\n",
        "        content = file.read()\n",
        "        print(\"File content:\", content)\n",
        "except Exception as e:\n",
        "    logging.error(f\"Error occurred while reading the file '{file_path_to_read}': {e}\")\n",
        "\n",
        "\n",
        "'''"
      ],
      "metadata": {
        "id": "mR0veoc7x3rd"
      },
      "execution_count": null,
      "outputs": []
    },
    {
      "cell_type": "code",
      "source": [],
      "metadata": {
        "id": "4ZOr7IQMx3pm"
      },
      "execution_count": null,
      "outputs": []
    },
    {
      "cell_type": "code",
      "source": [],
      "metadata": {
        "id": "fyUA6LFKx3m9"
      },
      "execution_count": null,
      "outputs": []
    },
    {
      "cell_type": "markdown",
      "source": [],
      "metadata": {
        "id": "KLaekQW-G9y0"
      }
    }
  ]
}